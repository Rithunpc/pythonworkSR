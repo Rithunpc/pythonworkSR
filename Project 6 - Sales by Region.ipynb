{
 "cells": [
  {
   "cell_type": "code",
   "execution_count": 25,
   "id": "928cbd7a",
   "metadata": {},
   "outputs": [
    {
     "data": {
      "text/html": [
       "<div>\n",
       "<style scoped>\n",
       "    .dataframe tbody tr th:only-of-type {\n",
       "        vertical-align: middle;\n",
       "    }\n",
       "\n",
       "    .dataframe tbody tr th {\n",
       "        vertical-align: top;\n",
       "    }\n",
       "\n",
       "    .dataframe thead th {\n",
       "        text-align: right;\n",
       "    }\n",
       "</style>\n",
       "<table border=\"1\" class=\"dataframe\">\n",
       "  <thead>\n",
       "    <tr style=\"text-align: right;\">\n",
       "      <th></th>\n",
       "      <th>Order ID</th>\n",
       "      <th>Order Date</th>\n",
       "      <th>Product Name</th>\n",
       "      <th>Category</th>\n",
       "      <th>Quantity</th>\n",
       "      <th>Sales</th>\n",
       "      <th>Region</th>\n",
       "      <th>Customer</th>\n",
       "    </tr>\n",
       "  </thead>\n",
       "  <tbody>\n",
       "    <tr>\n",
       "      <th>0</th>\n",
       "      <td>BN-2011-7407039</td>\n",
       "      <td>2011-01-01</td>\n",
       "      <td>Enermax Note Cards, Premium</td>\n",
       "      <td>Office Supplies</td>\n",
       "      <td>3</td>\n",
       "      <td>45</td>\n",
       "      <td>North</td>\n",
       "      <td>Ruby Patel</td>\n",
       "    </tr>\n",
       "    <tr>\n",
       "      <th>1</th>\n",
       "      <td>AZ-2011-9050313</td>\n",
       "      <td>2011-01-03</td>\n",
       "      <td>Dania Corner Shelving, Traditional</td>\n",
       "      <td>Furniture</td>\n",
       "      <td>7</td>\n",
       "      <td>854</td>\n",
       "      <td>North</td>\n",
       "      <td>Summer Hayward</td>\n",
       "    </tr>\n",
       "    <tr>\n",
       "      <th>2</th>\n",
       "      <td>AZ-2011-6674300</td>\n",
       "      <td>2011-01-04</td>\n",
       "      <td>Binney &amp; Smith Sketch Pad, Easy-Erase</td>\n",
       "      <td>Office Supplies</td>\n",
       "      <td>3</td>\n",
       "      <td>140</td>\n",
       "      <td>Central</td>\n",
       "      <td>Devin Huddleston</td>\n",
       "    </tr>\n",
       "    <tr>\n",
       "      <th>3</th>\n",
       "      <td>BN-2011-2819714</td>\n",
       "      <td>2011-01-04</td>\n",
       "      <td>Boston Markers, Easy-Erase</td>\n",
       "      <td>Office Supplies</td>\n",
       "      <td>2</td>\n",
       "      <td>27</td>\n",
       "      <td>North</td>\n",
       "      <td>Mary Parker</td>\n",
       "    </tr>\n",
       "    <tr>\n",
       "      <th>4</th>\n",
       "      <td>AZ-2011-617423</td>\n",
       "      <td>2011-01-05</td>\n",
       "      <td>Binney &amp; Smith Pencil Sharpener, Water Color</td>\n",
       "      <td>Office Supplies</td>\n",
       "      <td>3</td>\n",
       "      <td>90</td>\n",
       "      <td>Central</td>\n",
       "      <td>Daniel Burke</td>\n",
       "    </tr>\n",
       "    <tr>\n",
       "      <th>...</th>\n",
       "      <td>...</td>\n",
       "      <td>...</td>\n",
       "      <td>...</td>\n",
       "      <td>...</td>\n",
       "      <td>...</td>\n",
       "      <td>...</td>\n",
       "      <td>...</td>\n",
       "      <td>...</td>\n",
       "    </tr>\n",
       "    <tr>\n",
       "      <th>4112</th>\n",
       "      <td>AZ-2014-8174835</td>\n",
       "      <td>2014-12-31</td>\n",
       "      <td>Kleencut Shears, Serrated</td>\n",
       "      <td>Office Supplies</td>\n",
       "      <td>6</td>\n",
       "      <td>261</td>\n",
       "      <td>Central</td>\n",
       "      <td>Eloise Sykes</td>\n",
       "    </tr>\n",
       "    <tr>\n",
       "      <th>4113</th>\n",
       "      <td>AZ-2014-766953</td>\n",
       "      <td>2014-12-31</td>\n",
       "      <td>Ikea Stackable Bookrack, Traditional</td>\n",
       "      <td>Furniture</td>\n",
       "      <td>2</td>\n",
       "      <td>245</td>\n",
       "      <td>North</td>\n",
       "      <td>Jose Gambino</td>\n",
       "    </tr>\n",
       "    <tr>\n",
       "      <th>4114</th>\n",
       "      <td>AZ-2014-1412225</td>\n",
       "      <td>2014-12-31</td>\n",
       "      <td>Fellowes Shelving, Single Width</td>\n",
       "      <td>Office Supplies</td>\n",
       "      <td>5</td>\n",
       "      <td>289</td>\n",
       "      <td>North</td>\n",
       "      <td>Leon Barnes</td>\n",
       "    </tr>\n",
       "    <tr>\n",
       "      <th>4115</th>\n",
       "      <td>AZ-2014-7604524</td>\n",
       "      <td>2014-12-31</td>\n",
       "      <td>Wilson Jones Index Tab, Economy</td>\n",
       "      <td>Office Supplies</td>\n",
       "      <td>5</td>\n",
       "      <td>32</td>\n",
       "      <td>Central</td>\n",
       "      <td>Rebecca Chamberlain</td>\n",
       "    </tr>\n",
       "    <tr>\n",
       "      <th>4116</th>\n",
       "      <td>BN-2014-4140795</td>\n",
       "      <td>2014-12-31</td>\n",
       "      <td>BIC Pencil Sharpener, Fluorescent</td>\n",
       "      <td>Office Supplies</td>\n",
       "      <td>2</td>\n",
       "      <td>30</td>\n",
       "      <td>Central</td>\n",
       "      <td>Daniel Hamilton</td>\n",
       "    </tr>\n",
       "  </tbody>\n",
       "</table>\n",
       "<p>4117 rows × 8 columns</p>\n",
       "</div>"
      ],
      "text/plain": [
       "             Order ID Order Date  \\\n",
       "0     BN-2011-7407039 2011-01-01   \n",
       "1     AZ-2011-9050313 2011-01-03   \n",
       "2     AZ-2011-6674300 2011-01-04   \n",
       "3     BN-2011-2819714 2011-01-04   \n",
       "4      AZ-2011-617423 2011-01-05   \n",
       "...               ...        ...   \n",
       "4112  AZ-2014-8174835 2014-12-31   \n",
       "4113   AZ-2014-766953 2014-12-31   \n",
       "4114  AZ-2014-1412225 2014-12-31   \n",
       "4115  AZ-2014-7604524 2014-12-31   \n",
       "4116  BN-2014-4140795 2014-12-31   \n",
       "\n",
       "                                      Product Name         Category  Quantity  \\\n",
       "0                      Enermax Note Cards, Premium  Office Supplies         3   \n",
       "1               Dania Corner Shelving, Traditional        Furniture         7   \n",
       "2            Binney & Smith Sketch Pad, Easy-Erase  Office Supplies         3   \n",
       "3                       Boston Markers, Easy-Erase  Office Supplies         2   \n",
       "4     Binney & Smith Pencil Sharpener, Water Color  Office Supplies         3   \n",
       "...                                            ...              ...       ...   \n",
       "4112                     Kleencut Shears, Serrated  Office Supplies         6   \n",
       "4113          Ikea Stackable Bookrack, Traditional        Furniture         2   \n",
       "4114               Fellowes Shelving, Single Width  Office Supplies         5   \n",
       "4115               Wilson Jones Index Tab, Economy  Office Supplies         5   \n",
       "4116             BIC Pencil Sharpener, Fluorescent  Office Supplies         2   \n",
       "\n",
       "      Sales   Region             Customer  \n",
       "0        45    North           Ruby Patel  \n",
       "1       854    North       Summer Hayward  \n",
       "2       140  Central     Devin Huddleston  \n",
       "3        27    North          Mary Parker  \n",
       "4        90  Central         Daniel Burke  \n",
       "...     ...      ...                  ...  \n",
       "4112    261  Central         Eloise Sykes  \n",
       "4113    245    North         Jose Gambino  \n",
       "4114    289    North          Leon Barnes  \n",
       "4115     32  Central  Rebecca Chamberlain  \n",
       "4116     30  Central      Daniel Hamilton  \n",
       "\n",
       "[4117 rows x 8 columns]"
      ]
     },
     "execution_count": 25,
     "metadata": {},
     "output_type": "execute_result"
    }
   ],
   "source": [
    "import pandas as pd\n",
    "import matplotlib.pyplot as plt\n",
    "st=pd.read_excel('Sales by Region (1).xlsx')\n",
    "st"
   ]
  },
  {
   "cell_type": "code",
   "execution_count": 2,
   "id": "4a24c3f7",
   "metadata": {},
   "outputs": [
    {
     "name": "stdout",
     "output_type": "stream",
     "text": [
      "Total Sales: 1267690\n"
     ]
    }
   ],
   "source": [
    "# Find total Sales \n",
    "print(\"Total Sales:\",st[\"Sales\"].sum())"
   ]
  },
  {
   "cell_type": "code",
   "execution_count": 3,
   "id": "e10150cd",
   "metadata": {},
   "outputs": [
    {
     "name": "stdout",
     "output_type": "stream",
     "text": [
      "Total number of unit sold: 4117\n"
     ]
    }
   ],
   "source": [
    "#Find total number of unit sold\n",
    "print (\"Total number of unit sold:\",st[\"Quantity\"].count())"
   ]
  },
  {
   "cell_type": "code",
   "execution_count": 4,
   "id": "50ed33e5",
   "metadata": {},
   "outputs": [
    {
     "name": "stdout",
     "output_type": "stream",
     "text": [
      "Category wise sales: Category\n",
      "Furniture          568595\n",
      "Office Supplies    421719\n",
      "Technology         277376\n",
      "Name: Sales, dtype: int64\n"
     ]
    },
    {
     "name": "stderr",
     "output_type": "stream",
     "text": [
      "C:\\Users\\91984\\AppData\\Local\\Temp\\ipykernel_3476\\4054585811.py:2: FutureWarning: The default value of numeric_only in DataFrameGroupBy.sum is deprecated. In a future version, numeric_only will default to False. Either specify numeric_only or select only columns which should be valid for the function.\n",
      "  print(\"Category wise sales:\",st.groupby(\"Category\").sum()[\"Sales\"])\n"
     ]
    }
   ],
   "source": [
    "#Find category wise sales \n",
    "print(\"Category wise sales:\",st.groupby(\"Category\").sum()[\"Sales\"])"
   ]
  },
  {
   "cell_type": "code",
   "execution_count": 5,
   "id": "d97a8edb",
   "metadata": {},
   "outputs": [
    {
     "name": "stdout",
     "output_type": "stream",
     "text": [
      "Category wise units sold: Category\n",
      "Furniture          1076\n",
      "Office Supplies    2597\n",
      "Technology          444\n",
      "Name: Quantity, dtype: int64\n"
     ]
    }
   ],
   "source": [
    "#Find category wise units sold\n",
    "print(\"Category wise units sold:\",st.groupby(\"Category\").count()[\"Quantity\"])"
   ]
  },
  {
   "cell_type": "code",
   "execution_count": 6,
   "id": "f0d93859",
   "metadata": {},
   "outputs": [
    {
     "name": "stdout",
     "output_type": "stream",
     "text": [
      "Region wise sales: Region\n",
      "Central    698288\n",
      "North      289102\n",
      "South      280300\n",
      "Name: Sales, dtype: int64\n"
     ]
    },
    {
     "name": "stderr",
     "output_type": "stream",
     "text": [
      "C:\\Users\\91984\\AppData\\Local\\Temp\\ipykernel_3476\\2743944464.py:2: FutureWarning: The default value of numeric_only in DataFrameGroupBy.sum is deprecated. In a future version, numeric_only will default to False. Either specify numeric_only or select only columns which should be valid for the function.\n",
      "  print(\"Region wise sales:\",st.groupby(\"Region\").sum()[\"Sales\"])\n"
     ]
    }
   ],
   "source": [
    "#Find region wise sales\n",
    "print(\"Region wise sales:\",st.groupby(\"Region\").sum()[\"Sales\"])"
   ]
  },
  {
   "cell_type": "code",
   "execution_count": 7,
   "id": "0bd8cd25",
   "metadata": {},
   "outputs": [
    {
     "name": "stdout",
     "output_type": "stream",
     "text": [
      "Region wise units sold: Region\n",
      "Central    2234\n",
      "North       950\n",
      "South       933\n",
      "Name: Quantity, dtype: int64\n"
     ]
    }
   ],
   "source": [
    "#Find region wise units sold\n",
    "print(\"Region wise units sold:\",st.groupby(\"Region\").count()[\"Quantity\"])"
   ]
  },
  {
   "cell_type": "code",
   "execution_count": 8,
   "id": "f05c9cc5",
   "metadata": {},
   "outputs": [
    {
     "name": "stdout",
     "output_type": "stream",
     "text": [
      "Customer wise sales: Customer\n",
      "Aaron Bootman       1635\n",
      "Aaron Cunningham     820\n",
      "Aaron Davey         1862\n",
      "Aaron Macrossan       81\n",
      "Abbie Perry          619\n",
      "                    ... \n",
      "Zara Loton          1570\n",
      "Zara Money           785\n",
      "Zoe Lanigan         2358\n",
      "Zoe Lowin            565\n",
      "Zona Meyer          2490\n",
      "Name: Sales, Length: 792, dtype: int64\n"
     ]
    },
    {
     "name": "stderr",
     "output_type": "stream",
     "text": [
      "C:\\Users\\91984\\AppData\\Local\\Temp\\ipykernel_3476\\1625588246.py:2: FutureWarning: The default value of numeric_only in DataFrameGroupBy.sum is deprecated. In a future version, numeric_only will default to False. Either specify numeric_only or select only columns which should be valid for the function.\n",
      "  print(\"Customer wise sales:\",st.groupby(\"Customer\").sum()[\"Sales\"])\n"
     ]
    }
   ],
   "source": [
    "#Find customer wise sales\n",
    "print(\"Customer wise sales:\",st.groupby(\"Customer\").sum()[\"Sales\"])"
   ]
  },
  {
   "cell_type": "code",
   "execution_count": 9,
   "id": "b5edf47a",
   "metadata": {},
   "outputs": [
    {
     "name": "stdout",
     "output_type": "stream",
     "text": [
      "Customer wise units sold: Customer\n",
      "Aaron Bootman       11\n",
      "Aaron Cunningham     8\n",
      "Aaron Davey          4\n",
      "Aaron Macrossan      1\n",
      "Abbie Perry          4\n",
      "                    ..\n",
      "Zara Loton           3\n",
      "Zara Money           5\n",
      "Zoe Lanigan          4\n",
      "Zoe Lowin            4\n",
      "Zona Meyer           8\n",
      "Name: Quantity, Length: 792, dtype: int64\n"
     ]
    }
   ],
   "source": [
    "#Find customer wise units sold\n",
    "print(\"Customer wise units sold:\",st.groupby(\"Customer\").count()[\"Quantity\"])"
   ]
  },
  {
   "cell_type": "code",
   "execution_count": 10,
   "id": "beb14836",
   "metadata": {},
   "outputs": [
    {
     "name": "stdout",
     "output_type": "stream",
     "text": [
      "Date wise sales: Order Date\n",
      "2011-01-01      45\n",
      "2011-01-03     854\n",
      "2011-01-04     167\n",
      "2011-01-05      90\n",
      "2011-01-07     155\n",
      "              ... \n",
      "2014-12-27    1718\n",
      "2014-12-28     135\n",
      "2014-12-29    2384\n",
      "2014-12-30     457\n",
      "2014-12-31    1414\n",
      "Name: Sales, Length: 1214, dtype: int64\n"
     ]
    },
    {
     "name": "stderr",
     "output_type": "stream",
     "text": [
      "C:\\Users\\91984\\AppData\\Local\\Temp\\ipykernel_3476\\1031955911.py:2: FutureWarning: The default value of numeric_only in DataFrameGroupBy.sum is deprecated. In a future version, numeric_only will default to False. Either specify numeric_only or select only columns which should be valid for the function.\n",
      "  print(\"Date wise sales:\",st.groupby(\"Order Date\").sum()[\"Sales\"])\n"
     ]
    }
   ],
   "source": [
    "#Find date wise sales\n",
    "print(\"Date wise sales:\",st.groupby(\"Order Date\").sum()[\"Sales\"])"
   ]
  },
  {
   "cell_type": "code",
   "execution_count": 11,
   "id": "a5d1663c",
   "metadata": {},
   "outputs": [
    {
     "name": "stdout",
     "output_type": "stream",
     "text": [
      "Total number of oreder: 4117\n"
     ]
    }
   ],
   "source": [
    "#find total number of oreder\n",
    "print(\"Total number of oreder:\",st[\"Order ID\"].count())"
   ]
  },
  {
   "cell_type": "code",
   "execution_count": 12,
   "id": "310c34a7",
   "metadata": {},
   "outputs": [
    {
     "name": "stdout",
     "output_type": "stream",
     "text": [
      "Q1 values of sales (25%): 50.0\n"
     ]
    }
   ],
   "source": [
    "#Give the Values of Q1, Q2, Q3\n",
    "\n",
    "print(\"Q1 values of sales (25%):\",st[\"Sales\"].quantile(0.25))"
   ]
  },
  {
   "cell_type": "code",
   "execution_count": 13,
   "id": "f0cf37d4",
   "metadata": {},
   "outputs": [
    {
     "name": "stdout",
     "output_type": "stream",
     "text": [
      "Q2 values of sales (50%): 120.0\n"
     ]
    }
   ],
   "source": [
    "print(\"Q2 values of sales (50%):\",st[\"Sales\"].quantile(0.50))"
   ]
  },
  {
   "cell_type": "code",
   "execution_count": 14,
   "id": "0c57a698",
   "metadata": {},
   "outputs": [
    {
     "name": "stdout",
     "output_type": "stream",
     "text": [
      "Q3 values of sales (75%): 322.0\n"
     ]
    }
   ],
   "source": [
    "print(\"Q3 values of sales (75%):\",st[\"Sales\"].quantile(0.75))"
   ]
  },
  {
   "cell_type": "code",
   "execution_count": 15,
   "id": "b5e5801b",
   "metadata": {},
   "outputs": [
    {
     "data": {
      "text/plain": [
       "<Axes: >"
      ]
     },
     "execution_count": 15,
     "metadata": {},
     "output_type": "execute_result"
    },
    {
     "data": {
      "image/png": "[encoded data removed]",
      "text/plain": [
       "<Figure size 640x480 with 1 Axes>"
      ]
     },
     "metadata": {},
     "output_type": "display_data"
    }
   ],
   "source": [
    "#Find the Q1, Q2 and Q3 of Sales in a Box Plot\n",
    "st.plot(y=[\"Sales\"],kind='box')"
   ]
  },
  {
   "cell_type": "code",
   "execution_count": 28,
   "id": "15c46316",
   "metadata": {},
   "outputs": [
    {
     "name": "stderr",
     "output_type": "stream",
     "text": [
      "C:\\Users\\91984\\AppData\\Local\\Temp\\ipykernel_3476\\545615889.py:2: FutureWarning: The default value of numeric_only in DataFrameGroupBy.mean is deprecated. In a future version, numeric_only will default to False. Either specify numeric_only or select only columns which should be valid for the function.\n",
      "  f= st.groupby(\"Region\").mean()[\"Sales\"].plot(kind='pie')\n"
     ]
    },
    {
     "data": {
      "text/plain": [
       "<Axes: ylabel='Sales'>"
      ]
     },
     "execution_count": 28,
     "metadata": {},
     "output_type": "execute_result"
    },
    {
     "data": {
      "image/png": "[encoded data removed]",
      "text/plain": [
       "<Figure size 640x480 with 1 Axes>"
      ]
     },
     "metadata": {},
     "output_type": "display_data"
    }
   ],
   "source": [
    "#Show the average sales of each region in Pie Chart\n",
    "f= st.groupby(\"Region\").mean()[\"Sales\"].plot(kind='pie')\n",
    "f"
   ]
  },
  {
   "cell_type": "code",
   "execution_count": 31,
   "id": "1fa32a43",
   "metadata": {},
   "outputs": [
    {
     "name": "stderr",
     "output_type": "stream",
     "text": [
      "C:\\Users\\91984\\AppData\\Local\\Temp\\ipykernel_3476\\2297118031.py:2: FutureWarning: The default value of numeric_only in DataFrameGroupBy.mean is deprecated. In a future version, numeric_only will default to False. Either specify numeric_only or select only columns which should be valid for the function.\n",
      "  st.groupby(\"Category\").mean()[\"Sales\"].plot(kind='bar')\n"
     ]
    },
    {
     "data": {
      "text/plain": [
       "<Axes: xlabel='Category'>"
      ]
     },
     "execution_count": 31,
     "metadata": {},
     "output_type": "execute_result"
    },
    {
     "data": {
      "image/png": "[encoded data removed]",
      "text/plain": [
       "<Figure size 640x480 with 1 Axes>"
      ]
     },
     "metadata": {},
     "output_type": "display_data"
    }
   ],
   "source": [
    "#Show the Average sales of each category in Bar Chart\n",
    "st.groupby(\"Category\").mean()[\"Sales\"].plot(kind='bar')"
   ]
  },
  {
   "cell_type": "code",
   "execution_count": 32,
   "id": "c2fcf6fe",
   "metadata": {},
   "outputs": [
    {
     "name": "stdout",
     "output_type": "stream",
     "text": [
      "Maximum sales in each region: Region\n",
      "Central    5729\n",
      "North      5725\n",
      "South      6517\n",
      "Name: Sales, dtype: int64\n"
     ]
    }
   ],
   "source": [
    "#Find the maximum sales in each region\n",
    "print(\"Maximum sales in each region:\",st.groupby('Region').max()[\"Sales\"])"
   ]
  },
  {
   "cell_type": "code",
   "execution_count": 34,
   "id": "5bba4e56",
   "metadata": {},
   "outputs": [
    {
     "name": "stdout",
     "output_type": "stream",
     "text": [
      "Minimum sales in each region: Region\n",
      "Central    5\n",
      "North      3\n",
      "South      8\n",
      "Name: Sales, dtype: int64\n"
     ]
    }
   ],
   "source": [
    "#Find the minimum sales in each region\n",
    "print(\"Minimum sales in each region:\",st.groupby(\"Region\").min()[\"Sales\"])"
   ]
  },
  {
   "cell_type": "code",
   "execution_count": 35,
   "id": "7bfcbb82",
   "metadata": {},
   "outputs": [
    {
     "name": "stdout",
     "output_type": "stream",
     "text": [
      "Average sales in each region: Region\n",
      "Central    312.572963\n",
      "North      304.317895\n",
      "South      300.428725\n",
      "Name: Sales, dtype: float64\n"
     ]
    },
    {
     "name": "stderr",
     "output_type": "stream",
     "text": [
      "C:\\Users\\91984\\AppData\\Local\\Temp\\ipykernel_3476\\3470880531.py:2: FutureWarning: The default value of numeric_only in DataFrameGroupBy.mean is deprecated. In a future version, numeric_only will default to False. Either specify numeric_only or select only columns which should be valid for the function.\n",
      "  print(\"Average sales in each region:\",st.groupby(\"Region\").mean()[\"Sales\"])\n"
     ]
    }
   ],
   "source": [
    "#Find average sales in each region\n",
    "print(\"Average sales in each region:\",st.groupby(\"Region\").mean()[\"Sales\"])"
   ]
  },
  {
   "cell_type": "code",
   "execution_count": 36,
   "id": "e2d9a068",
   "metadata": {},
   "outputs": [
    {
     "name": "stdout",
     "output_type": "stream",
     "text": [
      "Maximum sales by each category: Category\n",
      "Furniture          5729\n",
      "Office Supplies    6517\n",
      "Technology         5725\n",
      "Name: Sales, dtype: int64\n"
     ]
    }
   ],
   "source": [
    "#Find maximum sales by each category\n",
    "print(\"Maximum sales by each category:\",st.groupby(\"Category\").max()[\"Sales\"])"
   ]
  },
  {
   "cell_type": "code",
   "execution_count": 37,
   "id": "c3e6e7b5",
   "metadata": {},
   "outputs": [
    {
     "name": "stdout",
     "output_type": "stream",
     "text": [
      "Minimum sales by each category: Category\n",
      "Furniture          11\n",
      "Office Supplies     3\n",
      "Technology         20\n",
      "Name: Sales, dtype: int64\n"
     ]
    }
   ],
   "source": [
    "#Find minimum sales by each category\n",
    "print(\"Minimum sales by each category:\",st.groupby(\"Category\").min()[\"Sales\"])"
   ]
  },
  {
   "cell_type": "code",
   "execution_count": 38,
   "id": "6ada4c18",
   "metadata": {},
   "outputs": [
    {
     "data": {
      "text/plain": [
       "<Axes: ylabel='Frequency'>"
      ]
     },
     "execution_count": 38,
     "metadata": {},
     "output_type": "execute_result"
    },
    {
     "data": {
      "image/png": "[encoded data removed]",
      "text/plain": [
       "<Figure size 640x480 with 1 Axes>"
      ]
     },
     "metadata": {},
     "output_type": "display_data"
    }
   ],
   "source": [
    "#Draw a Histogram using the Sales data\n",
    "st.plot(y='Sales',kind='hist',bins=5)"
   ]
  },
  {
   "cell_type": "code",
   "execution_count": null,
   "id": "36df4da7",
   "metadata": {},
   "outputs": [],
   "source": []
  }
 ],
 "metadata": {
  "kernelspec": {
   "display_name": "Python 3 (ipykernel)",
   "language": "python",
   "name": "python3"
  },
  "language_info": {
   "codemirror_mode": {
    "name": "ipython",
    "version": 3
   },
   "file_extension": ".py",
   "mimetype": "text/x-python",
   "name": "python",
   "nbconvert_exporter": "python",
   "pygments_lexer": "ipython3",
   "version": "3.10.9"
  }
 },
 "nbformat": 4,
 "nbformat_minor": 5
}
